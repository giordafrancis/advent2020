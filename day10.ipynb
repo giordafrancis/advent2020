{
 "cells": [
  {
   "cell_type": "code",
   "execution_count": 5,
   "metadata": {},
   "outputs": [
    {
     "name": "stdout",
     "output_type": "stream",
     "text": [
      "Counter({1: 7, 3: 5})\n",
      "Counter({1: 22, 3: 10})\n"
     ]
    }
   ],
   "source": [
    "from typing import List, NamedTuple\n",
    "from collections import Counter, deque\n",
    "import heapq\n",
    "\n",
    "RAW= \"\"\"16\n",
    "10\n",
    "15\n",
    "5\n",
    "1\n",
    "11\n",
    "7\n",
    "19\n",
    "6\n",
    "12\n",
    "4\"\"\"\n",
    "\n",
    "RAW2=\"\"\"28\n",
    "33\n",
    "18\n",
    "42\n",
    "31\n",
    "14\n",
    "46\n",
    "20\n",
    "48\n",
    "47\n",
    "24\n",
    "23\n",
    "49\n",
    "45\n",
    "19\n",
    "38\n",
    "39\n",
    "11\n",
    "1\n",
    "32\n",
    "25\n",
    "35\n",
    "8\n",
    "17\n",
    "7\n",
    "9\n",
    "4\n",
    "2\n",
    "34\n",
    "10\n",
    "3\"\"\"\n",
    "\n",
    "def parse_inputs(inputs:str)->List[int]:\n",
    "    return [int(x) for x in inputs.split(\"\\n\")]\n",
    "\n",
    "class Adaptors(NamedTuple):\n",
    "    jolts: int\n",
    "    difference: int\n",
    "\n",
    "def handle_adaptors(adaptors:List[int]) -> int:\n",
    "    \n",
    "    heapq.heapify(adaptors)\n",
    "    ordered = []\n",
    "    i = 0\n",
    "    while adaptors:\n",
    "        lowest = heapq.heappop(adaptors)\n",
    "        if i == 0: # handle 0\n",
    "            diff = lowest - i\n",
    "            if diff < 4:\n",
    "                ordered.append(Adaptors(jolts=lowest, difference=diff))\n",
    "        else: # handle middle\n",
    "            diff = lowest - ordered[-1].jolts\n",
    "            if diff < 4:\n",
    "                ordered.append(Adaptors(jolts=lowest ,difference= diff))\n",
    "\n",
    "        i += 1\n",
    "        if i > len(ordered):\n",
    "            raise StopIteration()   \n",
    "    else:# handle max\n",
    "        diff = 3\n",
    "        highest = max(a.jolts for a in ordered) + diff\n",
    "        ordered.append(Adaptors(jolts= highest, difference= diff))\n",
    "        c = Counter(a.difference for a in ordered)\n",
    "        print(c)\n",
    "    return c[1] * c[3]\n",
    "    \n",
    "adaptors = parse_inputs(RAW)\n",
    "assert handle_adaptors(adaptors) == 35\n",
    "adaptors = parse_inputs(RAW2)\n",
    "assert handle_adaptors(adaptors) == 220"
   ]
  },
  {
   "cell_type": "code",
   "execution_count": 4,
   "metadata": {},
   "outputs": [
    {
     "name": "stdout",
     "output_type": "stream",
     "text": [
      "part1 1904\n"
     ]
    }
   ],
   "source": [
    "with open(\"puzzle_inputs/day10.txt\") as f:\n",
    "    RAW = f.read()\n",
    "adaptors = parse_inputs(RAW)\n",
    "print(\"part1\", handle_adaptors(adaptors))"
   ]
  }
 ],
 "metadata": {
  "kernelspec": {
   "display_name": "Python [conda env:scripts] *",
   "language": "python",
   "name": "conda-env-scripts-py"
  },
  "language_info": {
   "codemirror_mode": {
    "name": "ipython",
    "version": 3
   },
   "file_extension": ".py",
   "mimetype": "text/x-python",
   "name": "python",
   "nbconvert_exporter": "python",
   "pygments_lexer": "ipython3",
   "version": "3.8.5"
  }
 },
 "nbformat": 4,
 "nbformat_minor": 4
}
