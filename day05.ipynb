{
 "cells": [
  {
   "cell_type": "code",
   "execution_count": 181,
   "metadata": {},
   "outputs": [],
   "source": [
    "from typing import  Tuple, NamedTuple\n",
    "import math\n",
    "from aoc_utils import get_inputsfrom typing import  Tuple, NamedTuple\n",
    "import math\n",
    "from aoc_utils import get_inputsfrom typing import  Tuple, NamedTuple\n",
    "import math\n",
    "from aoc_utils import get_inputs"
   ]
  },
  {
   "cell_type": "markdown",
   "metadata": {},
   "source": [
    "\n",
    "    For example, consider just the first seven characters of FBFBBFFRLR:\n",
    "\n",
    "    Start by considering the whole range, rows 0 through 127.\n",
    "    F means to take the lower half, keeping rows 0 through 63.\n",
    "    B means to take the upper half, keeping rows 32 through 63.\n",
    "    F means to take the lower half, keeping rows 32 through 47.\n",
    "    B means to take the upper half, keeping rows 40 through 47.\n",
    "    B keeps rows 44 through 47.\n",
    "    F keeps rows 44 through 45.\n",
    "    The final F keeps the lower of the two, row 44.\n",
    "    \n",
    "    For example, consider just the last 3 characters of FBFBBFFRLR:\n",
    "\n",
    "    Start by considering the whole range, columns 0 through 7.\n",
    "    R means to take the upper half, keeping columns 4 through 7.\n",
    "    L means to take the lower half, keeping columns 4 through 5.\n",
    "    The final R keeps the upper of the two, column 5.\n",
    "\n"
   ]
  },
  {
   "cell_type": "code",
   "execution_count": 182,
   "metadata": {},
   "outputs": [],
   "source": [
    "arange = Tuple[int, int]\n",
    "\n",
    "class BoardingPass(NamedTuple):\n",
    "    partitioning:str\n",
    "    row:int\n",
    "    column:int\n",
    "    ID:int"
   ]
  },
  {
   "cell_type": "code",
   "execution_count": 183,
   "metadata": {},
   "outputs": [],
   "source": [
    "def read_row(partition:str, arange = (0, 127))-> int:\n",
    "    \"\"\"\n",
    "    [FBFBBFF]RLR\n",
    "    \"\"\"\n",
    "    for c in partition[:-3]:\n",
    "        arange = read_char_row(c, arange)\n",
    "        #print(arange, c)\n",
    "    return min(arange)\n",
    "\n",
    "def read_col(partition:str, arange = (0, 7))-> int:\n",
    "    \"\"\"\n",
    "    FBFBBFF[RLR]\n",
    "    \"\"\"\n",
    "    for c in partition[-3:]:\n",
    "        arange= read_char_col(c, arange)\n",
    "    return max(arange)\n"
   ]
  },
  {
   "cell_type": "code",
   "execution_count": 192,
   "metadata": {},
   "outputs": [],
   "source": [
    "def read_char_row(char:str, arange)-> arange:\n",
    "    low, high = arange\n",
    "    if char == 'F':\n",
    "        delta = math.ceil((high - low) / 2)\n",
    "        return low, high - delta\n",
    "    if char == 'B':\n",
    "        delta = math.ceil((high - low) / 2)\n",
    "        return low + delta, high\n",
    "    \n",
    "def read_char_col(char:str, arange)-> arange:\n",
    "    low, high = arange\n",
    "    if char == 'R':\n",
    "        delta = math.ceil((high - low) / 2)\n",
    "        return low + delta, high\n",
    "    if char == 'L':\n",
    "        delta = math.ceil((high - low) / 2)\n",
    "        return low , high - delta\n",
    "\n",
    "def get_seat_id(partition:str) -> int:\n",
    "    row = read_row(partition=partition)\n",
    "    col = read_col(partition=partition)\n",
    "    return 8 * row + col"
   ]
  },
  {
   "cell_type": "code",
   "execution_count": 193,
   "metadata": {},
   "outputs": [],
   "source": [
    "test = \"FBFBBFFRLR\""
   ]
  },
  {
   "cell_type": "code",
   "execution_count": 194,
   "metadata": {},
   "outputs": [],
   "source": [
    "assert get_seat_id(partition=test) == 357\n",
    "assert read_col(partition=test) == 5\n",
    "assert read_row(partition=test) == 44\n",
    "assert read_row(partition='BFFFBBFRRR') == 70\n",
    "assert read_col(partition='BFFFBBFRRR') == 7\n",
    "assert read_row(partition='FFFBBBFRRR')== 14\n",
    "assert read_col(partition='FFFBBBFRRR')== 7\n",
    "assert read_row(partition='BBFFBBFRLL')== 102\n",
    "assert read_col(partition='BBFFBBFRLL')== 4"
   ]
  },
  {
   "cell_type": "code",
   "execution_count": 195,
   "metadata": {},
   "outputs": [],
   "source": [
    "partitions = get_inputs(stub='day05*')\n",
    "high_id = max(get_seat_id(partition=p)\n",
    "              for p in partitions\n",
    ")"
   ]
  },
  {
   "cell_type": "markdown",
   "metadata": {},
   "source": [
    "Part 2 "
   ]
  },
  {
   "cell_type": "code",
   "execution_count": 230,
   "metadata": {},
   "outputs": [],
   "source": [
    "sort_p = sorted([get_seat_id(partition=p) for p in partitions])"
   ]
  },
  {
   "cell_type": "code",
   "execution_count": 232,
   "metadata": {},
   "outputs": [
    {
     "name": "stdout",
     "output_type": "stream",
     "text": [
      "649 681 683\n"
     ]
    }
   ],
   "source": [
    "for idx, (id1, id2) in enumerate(zip(sort_p,sort_p[1:])):\n",
    "    did = id2 - id1\n",
    "    #print(idx, id1, id2)\n",
    "    if did > 1:\n",
    "        print(idx, id1, id2)\n",
    "        break"
   ]
  },
  {
   "cell_type": "code",
   "execution_count": null,
   "metadata": {},
   "outputs": [],
   "source": []
  }
 ],
 "metadata": {
  "kernelspec": {
   "display_name": "Python [conda env:scripts] *",
   "language": "python",
   "name": "conda-env-scripts-py"
  },
  "language_info": {
   "codemirror_mode": {
    "name": "ipython",
    "version": 3
   },
   "file_extension": ".py",
   "mimetype": "text/x-python",
   "name": "python",
   "nbconvert_exporter": "python",
   "pygments_lexer": "ipython3",
   "version": "3.8.5"
  }
 },
 "nbformat": 4,
 "nbformat_minor": 4
}
