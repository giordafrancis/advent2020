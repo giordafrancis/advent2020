{
 "cells": [
  {
   "cell_type": "code",
   "execution_count": 1,
   "metadata": {},
   "outputs": [],
   "source": [
    "from aoc_utils import get_inputs\n",
    "from collections import Counter"
   ]
  },
  {
   "cell_type": "code",
   "execution_count": 2,
   "metadata": {},
   "outputs": [],
   "source": [
    "def assert_password(chunk:str)-> int:\n",
    "    part1, password = chunk.split(\":\")\n",
    "    arange, letter = part1.split()\n",
    "    low, high = arange.split(\"-\")\n",
    "    C = Counter(password)\n",
    "    test  = int(low) <=  C[letter] <= int(high)\n",
    "    return 1 if test else 0 "
   ]
  },
  {
   "cell_type": "code",
   "execution_count": 3,
   "metadata": {},
   "outputs": [],
   "source": [
    "test = [\"1-3 a: abcde\",\n",
    "\"1-3 b: cdefg\",\n",
    "\"2-9 c: ccccccccc\"]\n",
    "\n",
    "count = 0\n",
    "for chunk in test:\n",
    "    count += assert_password(chunk)\n",
    "assert count == 2"
   ]
  },
  {
   "cell_type": "code",
   "execution_count": 4,
   "metadata": {},
   "outputs": [
    {
     "data": {
      "text/plain": [
       "591"
      ]
     },
     "execution_count": 4,
     "metadata": {},
     "output_type": "execute_result"
    }
   ],
   "source": [
    "part1 = iter(get_inputs(stub='day02*'))\n",
    "count = 0\n",
    "for chunk in part1:\n",
    "    count += assert_password(chunk)\n",
    "count"
   ]
  },
  {
   "cell_type": "code",
   "execution_count": 5,
   "metadata": {},
   "outputs": [],
   "source": [
    "def assert_password_pos(chunk:str)-> int:\n",
    "    part1, password = chunk.split(\":\")\n",
    "    arange, letter = part1.split()\n",
    "    low, high = arange.split(\"-\")\n",
    "    idx_low, idx_high = int(low) - 1, int(high) - 1\n",
    "    tests = (password.strip()[idx_low] == letter) + (password.strip()[idx_high] == letter)\n",
    "    return 1 if tests == 1 else 0"
   ]
  },
  {
   "cell_type": "code",
   "execution_count": 6,
   "metadata": {},
   "outputs": [],
   "source": [
    "count = 0\n",
    "for chunk in test:\n",
    "    count += assert_password_pos(chunk)\n",
    "assert count == 1"
   ]
  },
  {
   "cell_type": "code",
   "execution_count": 9,
   "metadata": {},
   "outputs": [],
   "source": [
    "part2 = iter(get_inputs(stub='day02*'))\n",
    "count = 0\n",
    "for chunk in part2:\n",
    "    count += assert_password_pos(chunk)"
   ]
  },
  {
   "cell_type": "code",
   "execution_count": 10,
   "metadata": {},
   "outputs": [
    {
     "data": {
      "text/plain": [
       "335"
      ]
     },
     "execution_count": 10,
     "metadata": {},
     "output_type": "execute_result"
    }
   ],
   "source": [
    "count"
   ]
  },
  {
   "cell_type": "markdown",
   "metadata": {},
   "source": [
    "Below Joel Grus solution to same problem"
   ]
  },
  {
   "cell_type": "code",
   "execution_count": 13,
   "metadata": {},
   "outputs": [
    {
     "name": "stdout",
     "output_type": "stream",
     "text": [
      "335\n"
     ]
    }
   ],
   "source": [
    "from __future__ import annotations\n",
    "from typing import NamedTuple\n",
    "\n",
    "PASSWORDS = [\n",
    "    \"1-3 a: abcde\",\n",
    "    \"1-3 b: cdefg\",\n",
    "    \"2-9 c: ccccccccc\"\n",
    "]\n",
    "\n",
    "class Password(NamedTuple):\n",
    "    lo: int\n",
    "    hi: int\n",
    "    char: str\n",
    "    password: str\n",
    "\n",
    "    def is_valid(self) -> bool:\n",
    "        return self.lo <= self.password.count(self.char) <= self.hi\n",
    "\n",
    "    def is_valid2(self) -> bool:\n",
    "        is_lo = self.password[self.lo - 1] == self.char\n",
    "        is_hi = self.password[self.hi - 1] == self.char\n",
    "\n",
    "        return is_lo != is_hi\n",
    "\n",
    "    @staticmethod\n",
    "    def from_line(line: str) -> Password:\n",
    "        \"\"\"\n",
    "            \"1-3 a: abcde\",\n",
    "        \"\"\"\n",
    "        counts, char, password = line.strip().split()\n",
    "        lo, hi = [int(n) for n in counts.split(\"-\")]\n",
    "        char = char[0]\n",
    "        return Password(lo, hi, char, password)\n",
    "\n",
    "\n",
    "with open(r\"puzzle_inputs/day02_01.txt\") as f:\n",
    "    passwords = [Password.from_line(line) for line in f]\n",
    "    print(sum(pw.is_valid2() for pw in passwords))"
   ]
  }
 ],
 "metadata": {
  "kernelspec": {
   "display_name": "Python [conda env:scripts] *",
   "language": "python",
   "name": "conda-env-scripts-py"
  },
  "language_info": {
   "codemirror_mode": {
    "name": "ipython",
    "version": 3
   },
   "file_extension": ".py",
   "mimetype": "text/x-python",
   "name": "python",
   "nbconvert_exporter": "python",
   "pygments_lexer": "ipython3",
   "version": "3.8.5"
  }
 },
 "nbformat": 4,
 "nbformat_minor": 4
}
