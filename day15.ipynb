{
 "cells": [
  {
   "cell_type": "markdown",
   "id": "charged-penny",
   "metadata": {},
   "source": [
    "\n",
    " ```\n",
    " For example, suppose the starting numbers are 0,3,6:\n",
    "\n",
    "    Turn 1: The 1st number spoken is a starting number, 0.\n",
    "    Turn 2: The 2nd number spoken is a starting number, 3.\n",
    "    Turn 3: The 3rd number spoken is a starting number, 6.\n",
    "    Turn 4: Now, consider the last number spoken, 6. Since that was the first time the number had been spoken, the 4th number spoken is 0.\n",
    "    Turn 5: Next, again consider the last number spoken, 0. Since it had been spoken before, the next number to speak is the difference between the turn number when it was last spoken (the previous turn, 4) and the turn number of the time it was most recently spoken before then (turn 1). Thus, the 5th number spoken is 4 - 1, 3.\n",
    "    Turn 6: The last number spoken, 3 had also been spoken before, most recently on turns 5 and 2. So, the 6th number spoken is 5 - 2, 3.\n",
    "    Turn 7: Since 3 was just spoken twice in a row, and the last two turns are 1 turn apart, the 7th number spoken is 1.\n",
    "    Turn 8: Since 1 is new, the 8th number spoken is 0.\n",
    "    Turn 9: 0 was last spoken on turns 8 and 4, so the 9th number spoken is the difference between them, 4.\n",
    "    Turn 10: 4 is new, so the 10th number spoken is 0.\n",
    "```"
   ]
  },
  {
   "cell_type": "code",
   "execution_count": 52,
   "id": "rural-court",
   "metadata": {},
   "outputs": [],
   "source": [
    "from collections import deque, defaultdict\n",
    "from typing import List, Dict, Iterator\n",
    "\n",
    "\n",
    "\n",
    "\n",
    "RAW = [0,3,6]\n",
    "\n",
    "def d():\n",
    "    return deque(maxlen=2)\n",
    "\n",
    "def play(snumbers:List[int], limit:int=2020) -> int:\n",
    "    turn = 1\n",
    "    track = defaultdict(d)\n",
    "    snumbers = list(reversed(snumbers))\n",
    "    while turn <= limit:\n",
    "        while snumbers:\n",
    "            num_spoken = snumbers.pop()\n",
    "            track[num_spoken].appendleft(turn)\n",
    "            turn += 1\n",
    "        if len(track[num_spoken]) == 1:\n",
    "            num_spoken = 0\n",
    "            track[num_spoken].appendleft(turn)\n",
    "        else:\n",
    "            #print(track)\n",
    "            before = track[num_spoken][-1]\n",
    "            last = track[num_spoken][0]\n",
    "            num_spoken = last - before\n",
    "            track[num_spoken].appendleft(turn)\n",
    "        turn += 1\n",
    "    return num_spoken"
   ]
  },
  {
   "cell_type": "markdown",
   "id": "hourly-emphasis",
   "metadata": {},
   "source": [
    "## Unit Test"
   ]
  },
  {
   "cell_type": "code",
   "execution_count": 53,
   "id": "radio-figure",
   "metadata": {},
   "outputs": [],
   "source": [
    "assert play(snumbers=RAW) == 436\n",
    "assert play(snumbers=[1,3,2]) == 1\n",
    "assert play(snumbers=[2,1,3]) == 10\n",
    "assert play(snumbers=[1,2,3]) == 27\n",
    "assert play(snumbers=[2,3,1]) == 78\n",
    "assert play(snumbers=[3,2,1]) == 438\n",
    "assert play(snumbers=[3,1,2]) == 1836"
   ]
  },
  {
   "cell_type": "markdown",
   "id": "cleared-astronomy",
   "metadata": {},
   "source": [
    "## Part 1"
   ]
  },
  {
   "cell_type": "code",
   "execution_count": 54,
   "id": "rubber-lodge",
   "metadata": {},
   "outputs": [
    {
     "data": {
      "text/plain": [
       "273"
      ]
     },
     "execution_count": 54,
     "metadata": {},
     "output_type": "execute_result"
    }
   ],
   "source": [
    "play(snumbers=[1,12,0,20,8,16])"
   ]
  },
  {
   "cell_type": "markdown",
   "id": "optical-sterling",
   "metadata": {},
   "source": [
    "## Part 2"
   ]
  },
  {
   "cell_type": "code",
   "execution_count": 47,
   "id": "centered-railway",
   "metadata": {},
   "outputs": [
    {
     "data": {
      "text/plain": [
       "47205"
      ]
     },
     "execution_count": 47,
     "metadata": {},
     "output_type": "execute_result"
    }
   ],
   "source": [
    "play(limit=30000000, snumbers=[1,12,0,20,8,16])"
   ]
  },
  {
   "cell_type": "markdown",
   "id": "waiting-token",
   "metadata": {},
   "source": [
    "### Below jg solution audit after resolving "
   ]
  },
  {
   "cell_type": "code",
   "execution_count": 63,
   "id": "crazy-interim",
   "metadata": {},
   "outputs": [],
   "source": [
    "def play_game(starting_numbers: List[int]) -> Iterator[int]:\n",
    "    last_seen: Dict[int, int] = {}\n",
    "    gap = None\n",
    "\n",
    "    for i in itertools.count(0):\n",
    "        if i < len(starting_numbers):\n",
    "            # still in starting numbers, use them\n",
    "            n = starting_numbers[i]\n",
    "        elif gap:\n",
    "            # number seen before, so say the gap\n",
    "            n = gap \n",
    "        else:\n",
    "            # new number, so say zero\n",
    "            n = 0\n",
    "        \n",
    "        if n in last_seen:\n",
    "            # saw this already, so figure out the gap\n",
    "            gap = i - last_seen[n]\n",
    "        else:\n",
    "            # first time, so no gap\n",
    "            gap = None\n",
    "\n",
    "        # update last seen and yield\n",
    "        last_seen[n] = i\n",
    "        yield n\n",
    "\n",
    "def n_limit(starting_numbers: List[int], limit = 2020) -> int:\n",
    "    game = play_game(starting_numbers)\n",
    "    for i in range(limit):\n",
    "        n = next(game)\n",
    "    return n"
   ]
  },
  {
   "cell_type": "code",
   "execution_count": 64,
   "id": "bearing-paper",
   "metadata": {},
   "outputs": [],
   "source": [
    "assert n_limit([0, 3, 6]) == 436"
   ]
  },
  {
   "cell_type": "code",
   "execution_count": 68,
   "id": "stainless-option",
   "metadata": {},
   "outputs": [
    {
     "name": "stdout",
     "output_type": "stream",
     "text": [
      "Wall time: 13.6 s\n"
     ]
    },
    {
     "data": {
      "text/plain": [
       "814"
      ]
     },
     "execution_count": 68,
     "metadata": {},
     "output_type": "execute_result"
    }
   ],
   "source": [
    "%time n_limit([2,20,0,4,1,17], limit =30000000)"
   ]
  },
  {
   "cell_type": "code",
   "execution_count": 69,
   "id": "demanding-subscriber",
   "metadata": {},
   "outputs": [
    {
     "name": "stdout",
     "output_type": "stream",
     "text": [
      "Wall time: 24.6 s\n"
     ]
    },
    {
     "data": {
      "text/plain": [
       "814"
      ]
     },
     "execution_count": 69,
     "metadata": {},
     "output_type": "execute_result"
    }
   ],
   "source": [
    "%time play(limit=30000000, snumbers=[2,20,0,4,1,17])"
   ]
  }
 ],
 "metadata": {
  "kernelspec": {
   "display_name": "Python 3",
   "language": "python",
   "name": "python3"
  },
  "language_info": {
   "codemirror_mode": {
    "name": "ipython",
    "version": 3
   },
   "file_extension": ".py",
   "mimetype": "text/x-python",
   "name": "python",
   "nbconvert_exporter": "python",
   "pygments_lexer": "ipython3",
   "version": "3.7.9"
  }
 },
 "nbformat": 4,
 "nbformat_minor": 5
}
