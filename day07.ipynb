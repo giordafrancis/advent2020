{
 "cells": [
  {
   "cell_type": "code",
   "execution_count": 25,
   "metadata": {},
   "outputs": [],
   "source": [
    "import re\n",
    "from typing import List, Dict, NamedTuple, Optional, Set\n",
    "\n",
    "BagsDict  =Dict[str,Dict[str,int]]\n",
    "\n",
    "class Bag(NamedTuple):\n",
    "    bag_type: str\n",
    "    num: int = 1\n",
    "           \n",
    "    @staticmethod\n",
    "    def parse_text(text:str):\n",
    "        \"\"\"\n",
    "        3 pale aqua bag or duffy douche bag\n",
    "        \"\"\"\n",
    "        REGEX = \"^ ?(?P<num>[0-9])? (?P<type>[a-z]+ [a-z]+) bags?\"\n",
    "        m = re.match(REGEX, text)\n",
    "        return Bag(num = int(m.group('num')), \n",
    "                   bag_type = m.group('type'))          \n",
    "\n",
    "class Node(NamedTuple):\n",
    "    parent: Bag\n",
    "    child: Dict[str, int] = None\n",
    "        \n",
    "    @staticmethod\n",
    "    def parse_row(row:str)-> Bag:\n",
    "        \"\"\"\n",
    "        handle input row day 6\n",
    "        \"\"\"\n",
    "        contain = row.split(\"contain\")\n",
    "        contain0 = \"1 \" + contain[0] # not so clean...\n",
    "        if 'no other bags' in contain[1]:\n",
    "            return Node(parent = Bag.parse_text(contain0))\n",
    "        else:\n",
    "            child = {}\n",
    "            commas = contain[1].split(\",\")\n",
    "            for text in commas:\n",
    "                b = Bag.parse_text(text)\n",
    "                child[b.bag_type] = b.num\n",
    "        main = Bag.parse_text(contain0)\n",
    "        return Node(parent= main, child=child)\n",
    "\n",
    "def get_bags(raw:str)-> List[Node]:\n",
    "    return [\n",
    "        Node.parse_row(r)\n",
    "        for r in raw.split(\"\\n\")\n",
    "    ]\n",
    "\n",
    "def get_dict(Nodes: List[Node])-> BagsDict:\n",
    "    return {\n",
    "        node.parent.bag_type:node.child\n",
    "        for node in Nodes\n",
    "    }\n",
    "\n",
    "def get_immediate(n_dict: BagsDict, target:str)-> Set[str]:\n",
    "    immediate = set()\n",
    "    for bag, child in ds.items():\n",
    "        if child and target in child.keys():\n",
    "            immediate.add(bag)\n",
    "    return immediate\n",
    "            \n",
    "\n",
    "def num_bags_contain(n_dict:BagsDict, target:str) -> int:\n",
    "    bags = set()\n",
    "    target_set = {target}\n",
    "    while True:\n",
    "        target = target_set.pop() \n",
    "        immediate_bags = get_immediate(n_dict=ds, target=target)\n",
    "        for bag in immediate_bags:\n",
    "            bags.add(bag)\n",
    "            target_set.add(bag)\n",
    "        if not target_set:\n",
    "            break\n",
    "    return len(bags)\n",
    "\n",
    "TEST = \"\"\"light red bags contain 1 bright white bag, 2 muted yellow bags.\n",
    "dark orange bags contain 3 bright white bags, 4 muted yellow bags.\n",
    "bright white bags contain 1 shiny gold bag.\n",
    "muted yellow bags contain 2 shiny gold bags, 9 faded blue bags.\n",
    "shiny gold bags contain 1 dark olive bag, 2 vibrant plum bags.\n",
    "dark olive bags contain 3 faded blue bags, 4 dotted black bags.\n",
    "vibrant plum bags contain 5 faded blue bags, 6 dotted black bags.\n",
    "faded blue bags contain no other bags.\n",
    "dotted black bags contain no other bags.\"\"\""
   ]
  },
  {
   "cell_type": "code",
   "execution_count": 26,
   "metadata": {},
   "outputs": [],
   "source": [
    "test = get_bags(raw=TEST)\n",
    "ds = get_dict(Nodes=test)\n",
    "target = 'shiny gold'\n",
    "assert num_bags_contain(n_dict=ds, target=target) == 4"
   ]
  },
  {
   "cell_type": "code",
   "execution_count": 27,
   "metadata": {},
   "outputs": [
    {
     "name": "stdout",
     "output_type": "stream",
     "text": [
      "128\n"
     ]
    }
   ],
   "source": [
    "with open('puzzle_inputs/day07_01.txt') as f:\n",
    "    target = 'shiny gold'\n",
    "    RAW = f.read()\n",
    "    nodes = get_bags(raw=RAW)\n",
    "    ds = get_dict(Nodes=nodes)\n",
    "    print(num_bags_contain(n_dict=ds, target=target))"
   ]
  },
  {
   "cell_type": "markdown",
   "metadata": {},
   "source": [
    "Part 2"
   ]
  },
  {
   "cell_type": "markdown",
   "metadata": {},
   "source": [
    "   Consider again your shiny gold bag and the rules from the above example:\n",
    "\n",
    "    faded blue bags contain 0 other bags.\n",
    "    dotted black bags contain 0 other bags.\n",
    "    vibrant plum bags contain 11 other bags: 5 faded blue bags and 6 dotted black bags.\n",
    "    dark olive bags contain 7 other bags: 3 faded blue bags and 4 dotted black bags.\n",
    "\n",
    "So, a single shiny gold bag must contain 1 dark olive bag (and the 7 bags within it) plus 2 vibrant plum bags (and the 11 bags within each of those): 1 + 1 x 7 + 2 + 2 x 11 = 32 bags!"
   ]
  },
  {
   "cell_type": "code",
   "execution_count": 28,
   "metadata": {},
   "outputs": [],
   "source": [
    "TEST = \"\"\"shiny gold bags contain 2 dark red bags.\n",
    "dark red bags contain 2 dark orange bags.\n",
    "dark orange bags contain 2 dark yellow bags.\n",
    "dark yellow bags contain 2 dark green bags.\n",
    "dark green bags contain 2 dark blue bags.\n",
    "dark blue bags contain 2 dark violet bags.\n",
    "dark violet bags contain no other bags.\"\"\""
   ]
  },
  {
   "cell_type": "code",
   "execution_count": 29,
   "metadata": {},
   "outputs": [],
   "source": [
    "def total_bags(n_dict:BagsDict, target:str) -> int:\n",
    "    total_bags = 0\n",
    "    stack = [(target, 1)]\n",
    "    while stack:\n",
    "        next_bag, count = stack.pop()\n",
    "        children = ds[next_bag]\n",
    "        if not children:\n",
    "            continue\n",
    "        for bag, num in children.items():\n",
    "            total_bags += count * num\n",
    "            stack.append((bag, num * count))\n",
    "    return total_bags\n",
    "        "
   ]
  },
  {
   "cell_type": "code",
   "execution_count": 30,
   "metadata": {},
   "outputs": [],
   "source": [
    "bags = get_bags(TEST)\n",
    "ds = get_dict(bags)\n",
    "target = 'shiny gold'\n",
    "assert total_bags(n_dict=ds, target=target) == 126\n"
   ]
  },
  {
   "cell_type": "code",
   "execution_count": 31,
   "metadata": {},
   "outputs": [
    {
     "name": "stdout",
     "output_type": "stream",
     "text": [
      "20189\n"
     ]
    }
   ],
   "source": [
    "with open('puzzle_inputs/day07_01.txt') as f:\n",
    "    target = 'shiny gold'\n",
    "    RAW = f.read()\n",
    "    nodes = get_bags(raw=RAW)\n",
    "    ds = get_dict(Nodes=nodes)\n",
    "    print(total_bags(n_dict=ds, target=target))"
   ]
  }
 ],
 "metadata": {
  "kernelspec": {
   "display_name": "Python 3",
   "language": "python",
   "name": "python3"
  },
  "language_info": {
   "codemirror_mode": {
    "name": "ipython",
    "version": 3
   },
   "file_extension": ".py",
   "mimetype": "text/x-python",
   "name": "python",
   "nbconvert_exporter": "python",
   "pygments_lexer": "ipython3",
   "version": "3.8.5"
  }
 },
 "nbformat": 4,
 "nbformat_minor": 4
}
