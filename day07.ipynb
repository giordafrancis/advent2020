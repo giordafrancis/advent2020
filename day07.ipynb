{
 "cells": [
  {
   "cell_type": "code",
   "execution_count": 4,
   "metadata": {},
   "outputs": [],
   "source": [
    "import re\n",
    "from typing import List, Dict, NamedTuple, Optional"
   ]
  },
  {
   "cell_type": "code",
   "execution_count": 7,
   "metadata": {},
   "outputs": [],
   "source": [
    "class Bag(NamedTuple):\n",
    "    bag_type: str\n",
    "    num: int = 1\n",
    "           \n",
    "    @staticmethod\n",
    "    def parse_text(text:str):\n",
    "        \"\"\"\n",
    "        3 pale aqua bag or duffy douche bag\n",
    "        \"\"\"\n",
    "        REGEX = \"^ ?(?P<num>[0-9])? (?P<type>[a-z]+ [a-z]+) bags\"\n",
    "        m = re.match(REGEX, text)\n",
    "        return Bag(num = int(m.group('num')), \n",
    "                   bag_type = m.group('type'))          \n",
    "\n",
    "\n",
    "class Node(NamedTuple):\n",
    "    parent: Bag\n",
    "    child: Dict[str, int]\n",
    "        \n",
    "    @staticmethod\n",
    "    def parse_row(row:str)-> Bag:\n",
    "        \"\"\"\n",
    "        handle input row day 6\n",
    "        \"\"\"\n",
    "        contain = row.split(\"contain\")\n",
    "        contain0 = \"1 \" + contain[0] # not so clean...\n",
    "        commas = contain[1].split(\",\")\n",
    "        if len(commas) == 1:\n",
    "            return Node(main = Bag.parse_text(contain0))\n",
    "        else:\n",
    "            inside = [\n",
    "                Bag.parse_text(t)\n",
    "                for t in commas\n",
    "            ]\n",
    "        main = Bag.parse_text(contain0)\n",
    "        return Node(main= main, inside=inside)\n"
   ]
  },
  {
   "cell_type": "code",
   "execution_count": 8,
   "metadata": {},
   "outputs": [],
   "source": [
    "TEST = \"\"\"light red bags contain 1 bright white bag, 2 muted yellow bags.\n",
    "dark orange bags contain 3 bright white bags, 4 muted yellow bags.\n",
    "bright white bags contain 1 shiny gold bag.\n",
    "muted yellow bags contain 2 shiny gold bags, 9 faded blue bags.\n",
    "shiny gold bags contain 1 dark olive bag, 2 vibrant plum bags.\n",
    "dark olive bags contain 3 faded blue bags, 4 dotted black bags.\n",
    "vibrant plum bags contain 5 faded blue bags, 6 dotted black bags.\n",
    "faded blue bags contain no other bags.\n",
    "dotted black bags contain no other bags.\"\"\""
   ]
  },
  {
   "cell_type": "code",
   "execution_count": 9,
   "metadata": {},
   "outputs": [],
   "source": [
    "RAW1 = \"clear crimson bags contain 3 pale aqua bags, 4 plaid magenta bags, 3 dotted beige bags, 3 dotted black bags.\"\n",
    "RAW2 = \"shiny plum bags contain no other bags.\""
   ]
  },
  {
   "cell_type": "code",
   "execution_count": 10,
   "metadata": {},
   "outputs": [],
   "source": [
    "ROWS = TEST.split(\"\\n\")"
   ]
  },
  {
   "cell_type": "code",
   "execution_count": 11,
   "metadata": {},
   "outputs": [
    {
     "ename": "AttributeError",
     "evalue": "'NoneType' object has no attribute 'group'",
     "output_type": "error",
     "traceback": [
      "\u001b[1;31m---------------------------------------------------------------------------\u001b[0m",
      "\u001b[1;31mAttributeError\u001b[0m                            Traceback (most recent call last)",
      "\u001b[1;32m<ipython-input-11-dc76d93277c7>\u001b[0m in \u001b[0;36m<module>\u001b[1;34m\u001b[0m\n\u001b[1;32m----> 1\u001b[1;33m test = [Node.parse_row(r) \n\u001b[0m\u001b[0;32m      2\u001b[0m  for r in ROWS]\n",
      "\u001b[1;32m<ipython-input-11-dc76d93277c7>\u001b[0m in \u001b[0;36m<listcomp>\u001b[1;34m(.0)\u001b[0m\n\u001b[1;32m----> 1\u001b[1;33m test = [Node.parse_row(r) \n\u001b[0m\u001b[0;32m      2\u001b[0m  for r in ROWS]\n",
      "\u001b[1;32m<ipython-input-7-d45ed63007f1>\u001b[0m in \u001b[0;36mparse_row\u001b[1;34m(row)\u001b[0m\n\u001b[0;32m     29\u001b[0m             \u001b[1;32mreturn\u001b[0m \u001b[0mNode\u001b[0m\u001b[1;33m(\u001b[0m\u001b[0mmain\u001b[0m \u001b[1;33m=\u001b[0m \u001b[0mBag\u001b[0m\u001b[1;33m.\u001b[0m\u001b[0mparse_text\u001b[0m\u001b[1;33m(\u001b[0m\u001b[0mcontain0\u001b[0m\u001b[1;33m)\u001b[0m\u001b[1;33m)\u001b[0m\u001b[1;33m\u001b[0m\u001b[1;33m\u001b[0m\u001b[0m\n\u001b[0;32m     30\u001b[0m         \u001b[1;32melse\u001b[0m\u001b[1;33m:\u001b[0m\u001b[1;33m\u001b[0m\u001b[1;33m\u001b[0m\u001b[0m\n\u001b[1;32m---> 31\u001b[1;33m             inside = [\n\u001b[0m\u001b[0;32m     32\u001b[0m                 \u001b[0mBag\u001b[0m\u001b[1;33m.\u001b[0m\u001b[0mparse_text\u001b[0m\u001b[1;33m(\u001b[0m\u001b[0mt\u001b[0m\u001b[1;33m)\u001b[0m\u001b[1;33m\u001b[0m\u001b[1;33m\u001b[0m\u001b[0m\n\u001b[0;32m     33\u001b[0m                 \u001b[1;32mfor\u001b[0m \u001b[0mt\u001b[0m \u001b[1;32min\u001b[0m \u001b[0mcommas\u001b[0m\u001b[1;33m\u001b[0m\u001b[1;33m\u001b[0m\u001b[0m\n",
      "\u001b[1;32m<ipython-input-7-d45ed63007f1>\u001b[0m in \u001b[0;36m<listcomp>\u001b[1;34m(.0)\u001b[0m\n\u001b[0;32m     30\u001b[0m         \u001b[1;32melse\u001b[0m\u001b[1;33m:\u001b[0m\u001b[1;33m\u001b[0m\u001b[1;33m\u001b[0m\u001b[0m\n\u001b[0;32m     31\u001b[0m             inside = [\n\u001b[1;32m---> 32\u001b[1;33m                 \u001b[0mBag\u001b[0m\u001b[1;33m.\u001b[0m\u001b[0mparse_text\u001b[0m\u001b[1;33m(\u001b[0m\u001b[0mt\u001b[0m\u001b[1;33m)\u001b[0m\u001b[1;33m\u001b[0m\u001b[1;33m\u001b[0m\u001b[0m\n\u001b[0m\u001b[0;32m     33\u001b[0m                 \u001b[1;32mfor\u001b[0m \u001b[0mt\u001b[0m \u001b[1;32min\u001b[0m \u001b[0mcommas\u001b[0m\u001b[1;33m\u001b[0m\u001b[1;33m\u001b[0m\u001b[0m\n\u001b[0;32m     34\u001b[0m             ]\n",
      "\u001b[1;32m<ipython-input-7-d45ed63007f1>\u001b[0m in \u001b[0;36mparse_text\u001b[1;34m(text)\u001b[0m\n\u001b[0;32m     10\u001b[0m         \u001b[0mREGEX\u001b[0m \u001b[1;33m=\u001b[0m \u001b[1;34m\"^ ?(?P<num>[0-9])? (?P<type>[a-z]+ [a-z]+) bags\"\u001b[0m\u001b[1;33m\u001b[0m\u001b[1;33m\u001b[0m\u001b[0m\n\u001b[0;32m     11\u001b[0m         \u001b[0mm\u001b[0m \u001b[1;33m=\u001b[0m \u001b[0mre\u001b[0m\u001b[1;33m.\u001b[0m\u001b[0mmatch\u001b[0m\u001b[1;33m(\u001b[0m\u001b[0mREGEX\u001b[0m\u001b[1;33m,\u001b[0m \u001b[0mtext\u001b[0m\u001b[1;33m)\u001b[0m\u001b[1;33m\u001b[0m\u001b[1;33m\u001b[0m\u001b[0m\n\u001b[1;32m---> 12\u001b[1;33m         return Bag(num = int(m.group('num')), \n\u001b[0m\u001b[0;32m     13\u001b[0m                    bag_type = m.group('type'))          \n\u001b[0;32m     14\u001b[0m \u001b[1;33m\u001b[0m\u001b[0m\n",
      "\u001b[1;31mAttributeError\u001b[0m: 'NoneType' object has no attribute 'group'"
     ]
    }
   ],
   "source": [
    "test = [Node.parse_row(r) \n",
    " for r in ROWS]"
   ]
  },
  {
   "cell_type": "code",
   "execution_count": 81,
   "metadata": {},
   "outputs": [],
   "source": [
    "ds = {n.main.btype:n.inside\n",
    "      for n in test}"
   ]
  },
  {
   "cell_type": "code",
   "execution_count": 87,
   "metadata": {},
   "outputs": [
    {
     "name": "stdout",
     "output_type": "stream",
     "text": [
      "light red [Bag(btype='bright white', num=1), Bag(btype='muted yellow', num=2)]\n",
      "dark orange [Bag(btype='bright white', num=3), Bag(btype='muted yellow', num=4)]\n",
      "bright white None\n",
      "muted yellow [Bag(btype='shiny gold', num=2), Bag(btype='faded blue', num=9)]\n",
      "shiny gold [Bag(btype='dark olive', num=1), Bag(btype='vibrant plum', num=2)]\n",
      "dark olive [Bag(btype='faded blue', num=3), Bag(btype='dotted black', num=4)]\n",
      "vibrant plum [Bag(btype='faded blue', num=5), Bag(btype='dotted black', num=6)]\n",
      "faded blue None\n",
      "dotted black None\n"
     ]
    }
   ],
   "source": [
    "target = 'shiny gold'\n",
    "union = set(ds[target])\n",
    "for btype, inside in ds.items():\n",
    "    print(btype, inside)\n",
    "    if inside and target in inside:\n",
    "        for bag in inside:\n",
    "            union |= set(ds[bag])"
   ]
  },
  {
   "cell_type": "code",
   "execution_count": null,
   "metadata": {},
   "outputs": [],
   "source": []
  }
 ],
 "metadata": {
  "kernelspec": {
   "display_name": "Python [conda env:scripts] *",
   "language": "python",
   "name": "conda-env-scripts-py"
  },
  "language_info": {
   "codemirror_mode": {
    "name": "ipython",
    "version": 3
   },
   "file_extension": ".py",
   "mimetype": "text/x-python",
   "name": "python",
   "nbconvert_exporter": "python",
   "pygments_lexer": "ipython3",
   "version": "3.8.5"
  }
 },
 "nbformat": 4,
 "nbformat_minor": 4
}
