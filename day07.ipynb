{
 "cells": [
  {
   "cell_type": "code",
   "execution_count": 1,
   "metadata": {},
   "outputs": [],
   "source": [
    "import re\n",
    "from typing import List, Dict, NamedTuple, Optional, Set\n",
    "\n",
    "BagsDict  =Dict[str,Dict[str,int]]\n",
    "\n",
    "class Bag(NamedTuple):\n",
    "    bag_type: str\n",
    "    num: int = 1\n",
    "           \n",
    "    @staticmethod\n",
    "    def parse_text(text:str):\n",
    "        \"\"\"\n",
    "        3 pale aqua bag or duffy douche bag\n",
    "        \"\"\"\n",
    "        REGEX = \"^ ?(?P<num>[0-9])? (?P<type>[a-z]+ [a-z]+) bags?\"\n",
    "        m = re.match(REGEX, text)\n",
    "        return Bag(num = int(m.group('num')), \n",
    "                   bag_type = m.group('type'))          \n",
    "\n",
    "class Node(NamedTuple):\n",
    "    parent: Bag\n",
    "    child: Dict[str, int] = None\n",
    "        \n",
    "    @staticmethod\n",
    "    def parse_row(row:str)-> Bag:\n",
    "        \"\"\"\n",
    "        handle input row day 6\n",
    "        \"\"\"\n",
    "        contain = row.split(\"contain\")\n",
    "        contain0 = \"1 \" + contain[0] # not so clean...\n",
    "        if 'no other bags' in contain[1]:\n",
    "            return Node(parent = Bag.parse_text(contain0))\n",
    "        else:\n",
    "            child = {}\n",
    "            commas = contain[1].split(\",\")\n",
    "            for text in commas:\n",
    "                b = Bag.parse_text(text)\n",
    "                child[b.bag_type] = b.num\n",
    "        main = Bag.parse_text(contain0)\n",
    "        return Node(parent= main, child=child)\n",
    "\n",
    "def get_bags(raw:str)-> List[Node]:\n",
    "    return [\n",
    "        Node.parse_row(r)\n",
    "        for r in raw.split(\"\\n\")\n",
    "    ]\n",
    "\n",
    "def get_dict(Nodes: List[Node])-> BagsDict:\n",
    "    return {\n",
    "        node.parent.bag_type:node.child\n",
    "        for node in Nodes\n",
    "    }\n",
    "\n",
    "def get_immediate(n_dict: BagsDict, target:str)-> Set[str]:\n",
    "    immediate = set()\n",
    "    for bag, child in ds.items():\n",
    "        if child and target in child.keys():\n",
    "            immediate.add(bag)\n",
    "    return immediate\n",
    "            \n",
    "\n",
    "def num_bags_contain(n_dict:BagsDict, target:str) -> int:\n",
    "    bags = set()\n",
    "    target_set = {target}\n",
    "    while True:\n",
    "        target = target_set.pop() \n",
    "        immediate_bags = get_immediate(n_dict=ds, target=target)\n",
    "        for bag in immediate_bags:\n",
    "            bags.add(bag)\n",
    "            target_set.add(bag)\n",
    "        if not target_set:\n",
    "            break\n",
    "    return len(bags)\n",
    "\n",
    "TEST = \"\"\"light red bags contain 1 bright white bag, 2 muted yellow bags.\n",
    "dark orange bags contain 3 bright white bags, 4 muted yellow bags.\n",
    "bright white bags contain 1 shiny gold bag.\n",
    "muted yellow bags contain 2 shiny gold bags, 9 faded blue bags.\n",
    "shiny gold bags contain 1 dark olive bag, 2 vibrant plum bags.\n",
    "dark olive bags contain 3 faded blue bags, 4 dotted black bags.\n",
    "vibrant plum bags contain 5 faded blue bags, 6 dotted black bags.\n",
    "faded blue bags contain no other bags.\n",
    "dotted black bags contain no other bags.\"\"\""
   ]
  },
  {
   "cell_type": "code",
   "execution_count": 2,
   "metadata": {},
   "outputs": [],
   "source": [
    "test = get_bags(raw=TEST)\n",
    "ds = get_dict(Nodes=test)\n",
    "target = 'shiny gold'\n",
    "assert num_bags_contain(n_dict=ds, target=target) == 4"
   ]
  },
  {
   "cell_type": "code",
   "execution_count": 3,
   "metadata": {},
   "outputs": [
    {
     "name": "stdout",
     "output_type": "stream",
     "text": [
      "128\n"
     ]
    }
   ],
   "source": [
    "with open('puzzle_inputs/day07_01.txt') as f:\n",
    "    target = 'shiny gold'\n",
    "    RAW = f.read()\n",
    "    nodes = get_bags(raw=RAW)\n",
    "    ds = get_dict(Nodes=nodes)\n",
    "    print(num_bags_contain(n_dict=ds, target=target))"
   ]
  },
  {
   "cell_type": "markdown",
   "metadata": {},
   "source": [
    "Part 2"
   ]
  },
  {
   "cell_type": "markdown",
   "metadata": {},
   "source": [
    "   Consider again your shiny gold bag and the rules from the above example:\n",
    "\n",
    "    faded blue bags contain 0 other bags.\n",
    "    dotted black bags contain 0 other bags.\n",
    "    vibrant plum bags contain 11 other bags: 5 faded blue bags and 6 dotted black bags.\n",
    "    dark olive bags contain 7 other bags: 3 faded blue bags and 4 dotted black bags.\n",
    "\n",
    "So, a single shiny gold bag must contain 1 dark olive bag (and the 7 bags within it) plus 2 vibrant plum bags (and the 11 bags within each of those): 1 + 1 x 7 + 2 + 2 x 11 = 32 bags!"
   ]
  },
  {
   "cell_type": "code",
   "execution_count": 26,
   "metadata": {},
   "outputs": [],
   "source": [
    "TEST = \"\"\"shiny gold bags contain 2 dark red bags.\n",
    "dark red bags contain 2 dark orange bags.\n",
    "dark orange bags contain 2 dark yellow bags.\n",
    "dark yellow bags contain 2 dark green bags.\n",
    "dark green bags contain 2 dark blue bags.\n",
    "dark blue bags contain 2 dark violet bags.\n",
    "dark violet bags contain no other bags.\"\"\""
   ]
  },
  {
   "cell_type": "code",
   "execution_count": 27,
   "metadata": {},
   "outputs": [],
   "source": [
    "def get_child_counts(n_dict: BagsDict, target:str, num:int)-> Set[str]:\n",
    "    return [\n",
    "        num * val\n",
    "        for val in n_dict[target].values()\n",
    "    ]"
   ]
  },
  {
   "cell_type": "markdown",
   "metadata": {},
   "source": [
    "def total_bags(n_dict:BagsDict, child:str, num:int=1) -> int:\n",
    "    bags_count = []\n",
    "    while True:\n",
    "        count_bags = get_child_counts(n_dict=n_dict, child=child, num=num)\n",
    "        if not count_bags:\n",
    "            return sum(bags_count)\n",
    "        # err when getting the data structure that keeps the children\n",
    "        children = n_dict[child]\n",
    "        parent = child\n",
    "        bags_count.extend(count_bags)\n",
    "        # eeror is here target children path "
   ]
  },
  {
   "cell_type": "code",
   "execution_count": 42,
   "metadata": {},
   "outputs": [],
   "source": [
    "def total_bags(n_dict:BagsDict, target:str, num:int=1) -> int:\n",
    "    bags_count = []\n",
    "    children_name = {target}\n",
    "    while children_name:\n",
    "        target = children_name.pop()\n",
    "        count_bags = get_child_counts(n_dict=n_dict, target=target, num=num)\n",
    "        bags_count.extend(count_bags)\n",
    "        children = n_dict[target]\n",
    "        children_name |= set(children.keys())\n",
    "        print(children_name, sum(bags_count))"
   ]
  },
  {
   "cell_type": "code",
   "execution_count": 43,
   "metadata": {},
   "outputs": [
    {
     "name": "stdout",
     "output_type": "stream",
     "text": [
      "{'dark red'} 2\n",
      "{'dark orange'} 4\n",
      "{'dark yellow'} 6\n",
      "{'dark green'} 8\n",
      "{'dark blue'} 10\n",
      "{'dark violet'} 12\n"
     ]
    },
    {
     "ename": "AttributeError",
     "evalue": "'NoneType' object has no attribute 'values'",
     "output_type": "error",
     "traceback": [
      "\u001b[1;31m---------------------------------------------------------------------------\u001b[0m",
      "\u001b[1;31mAttributeError\u001b[0m                            Traceback (most recent call last)",
      "\u001b[1;32m<ipython-input-43-346490a4a786>\u001b[0m in \u001b[0;36m<module>\u001b[1;34m()\u001b[0m\n\u001b[0;32m      2\u001b[0m \u001b[0mds\u001b[0m \u001b[1;33m=\u001b[0m \u001b[0mget_dict\u001b[0m\u001b[1;33m(\u001b[0m\u001b[0mNodes\u001b[0m\u001b[1;33m=\u001b[0m\u001b[0mtest\u001b[0m\u001b[1;33m)\u001b[0m\u001b[1;33m\u001b[0m\u001b[1;33m\u001b[0m\u001b[0m\n\u001b[0;32m      3\u001b[0m \u001b[0mtarget\u001b[0m \u001b[1;33m=\u001b[0m \u001b[1;34m'shiny gold'\u001b[0m\u001b[1;33m\u001b[0m\u001b[1;33m\u001b[0m\u001b[0m\n\u001b[1;32m----> 4\u001b[1;33m \u001b[0mtotal_bags\u001b[0m\u001b[1;33m(\u001b[0m\u001b[0mn_dict\u001b[0m\u001b[1;33m=\u001b[0m\u001b[0mds\u001b[0m\u001b[1;33m,\u001b[0m \u001b[0mtarget\u001b[0m\u001b[1;33m=\u001b[0m\u001b[0mtarget\u001b[0m\u001b[1;33m,\u001b[0m \u001b[0mnum\u001b[0m\u001b[1;33m=\u001b[0m\u001b[1;36m1\u001b[0m\u001b[1;33m)\u001b[0m\u001b[1;33m\u001b[0m\u001b[1;33m\u001b[0m\u001b[0m\n\u001b[0m",
      "\u001b[1;32m<ipython-input-42-9eb581e190c3>\u001b[0m in \u001b[0;36mtotal_bags\u001b[1;34m(n_dict, target, num)\u001b[0m\n\u001b[0;32m      4\u001b[0m     \u001b[1;32mwhile\u001b[0m \u001b[0mchildren_name\u001b[0m\u001b[1;33m:\u001b[0m\u001b[1;33m\u001b[0m\u001b[1;33m\u001b[0m\u001b[0m\n\u001b[0;32m      5\u001b[0m         \u001b[0mtarget\u001b[0m \u001b[1;33m=\u001b[0m \u001b[0mchildren_name\u001b[0m\u001b[1;33m.\u001b[0m\u001b[0mpop\u001b[0m\u001b[1;33m(\u001b[0m\u001b[1;33m)\u001b[0m\u001b[1;33m\u001b[0m\u001b[1;33m\u001b[0m\u001b[0m\n\u001b[1;32m----> 6\u001b[1;33m         \u001b[0mcount_bags\u001b[0m \u001b[1;33m=\u001b[0m \u001b[0mget_child_counts\u001b[0m\u001b[1;33m(\u001b[0m\u001b[0mn_dict\u001b[0m\u001b[1;33m=\u001b[0m\u001b[0mn_dict\u001b[0m\u001b[1;33m,\u001b[0m \u001b[0mtarget\u001b[0m\u001b[1;33m=\u001b[0m\u001b[0mtarget\u001b[0m\u001b[1;33m,\u001b[0m \u001b[0mnum\u001b[0m\u001b[1;33m=\u001b[0m\u001b[0mnum\u001b[0m\u001b[1;33m)\u001b[0m\u001b[1;33m\u001b[0m\u001b[1;33m\u001b[0m\u001b[0m\n\u001b[0m\u001b[0;32m      7\u001b[0m         \u001b[0mbags_count\u001b[0m\u001b[1;33m.\u001b[0m\u001b[0mextend\u001b[0m\u001b[1;33m(\u001b[0m\u001b[0mcount_bags\u001b[0m\u001b[1;33m)\u001b[0m\u001b[1;33m\u001b[0m\u001b[1;33m\u001b[0m\u001b[0m\n\u001b[0;32m      8\u001b[0m         \u001b[0mchildren\u001b[0m \u001b[1;33m=\u001b[0m \u001b[0mn_dict\u001b[0m\u001b[1;33m[\u001b[0m\u001b[0mtarget\u001b[0m\u001b[1;33m]\u001b[0m\u001b[1;33m\u001b[0m\u001b[1;33m\u001b[0m\u001b[0m\n",
      "\u001b[1;32m<ipython-input-27-994337f30cb1>\u001b[0m in \u001b[0;36mget_child_counts\u001b[1;34m(n_dict, target, num)\u001b[0m\n\u001b[0;32m      2\u001b[0m     return [\n\u001b[0;32m      3\u001b[0m         \u001b[0mnum\u001b[0m \u001b[1;33m*\u001b[0m \u001b[0mval\u001b[0m\u001b[1;33m\u001b[0m\u001b[1;33m\u001b[0m\u001b[0m\n\u001b[1;32m----> 4\u001b[1;33m         \u001b[1;32mfor\u001b[0m \u001b[0mval\u001b[0m \u001b[1;32min\u001b[0m \u001b[0mn_dict\u001b[0m\u001b[1;33m[\u001b[0m\u001b[0mtarget\u001b[0m\u001b[1;33m]\u001b[0m\u001b[1;33m.\u001b[0m\u001b[0mvalues\u001b[0m\u001b[1;33m(\u001b[0m\u001b[1;33m)\u001b[0m\u001b[1;33m\u001b[0m\u001b[1;33m\u001b[0m\u001b[0m\n\u001b[0m\u001b[0;32m      5\u001b[0m     ]\n",
      "\u001b[1;31mAttributeError\u001b[0m: 'NoneType' object has no attribute 'values'"
     ]
    }
   ],
   "source": [
    "test = get_bags(raw=TEST)\n",
    "ds = get_dict(Nodes=test)\n",
    "target = 'shiny gold'\n",
    "total_bags(n_dict=ds, target=target, num=1)"
   ]
  },
  {
   "cell_type": "code",
   "execution_count": 30,
   "metadata": {},
   "outputs": [
    {
     "data": {
      "text/plain": [
       "{'dark red'}"
      ]
     },
     "execution_count": 30,
     "metadata": {},
     "output_type": "execute_result"
    }
   ],
   "source": [
    "set() | set(ds[target].keys())"
   ]
  },
  {
   "cell_type": "code",
   "execution_count": 108,
   "metadata": {},
   "outputs": [],
   "source": [
    "children = ds['shiny gold']"
   ]
  },
  {
   "cell_type": "code",
   "execution_count": 118,
   "metadata": {},
   "outputs": [],
   "source": [
    "children_names = set(children.keys())"
   ]
  },
  {
   "cell_type": "markdown",
   "metadata": {},
   "source": [
    "### Simulate shiny gold path to total bags"
   ]
  },
  {
   "cell_type": "code",
   "execution_count": 95,
   "metadata": {},
   "outputs": [
    {
     "data": {
      "text/plain": [
       "32"
      ]
     },
     "execution_count": 95,
     "metadata": {},
     "output_type": "execute_result"
    }
   ],
   "source": [
    "1 + 2 + 10 + 12 + 3 + 4"
   ]
  },
  {
   "cell_type": "code",
   "execution_count": 87,
   "metadata": {},
   "outputs": [
    {
     "data": {
      "text/plain": [
       "[1, 2]"
      ]
     },
     "execution_count": 87,
     "metadata": {},
     "output_type": "execute_result"
    }
   ],
   "source": [
    "get_child_counts(n_dict=ds, child='shiny gold', num=1)"
   ]
  },
  {
   "cell_type": "code",
   "execution_count": 88,
   "metadata": {},
   "outputs": [
    {
     "data": {
      "text/plain": [
       "[10, 12]"
      ]
     },
     "execution_count": 88,
     "metadata": {},
     "output_type": "execute_result"
    }
   ],
   "source": [
    "get_child_counts(n_dict=ds, child='vibrant plum', num=2)"
   ]
  },
  {
   "cell_type": "code",
   "execution_count": 94,
   "metadata": {},
   "outputs": [
    {
     "data": {
      "text/plain": [
       "[3, 4]"
      ]
     },
     "execution_count": 94,
     "metadata": {},
     "output_type": "execute_result"
    }
   ],
   "source": [
    "get_child_counts(n_dict=ds, child='dark olive', num=1)"
   ]
  }
 ],
 "metadata": {
  "kernelspec": {
   "display_name": "Python 3",
   "language": "python",
   "name": "python3"
  },
  "language_info": {
   "codemirror_mode": {
    "name": "ipython",
    "version": 3
   },
   "file_extension": ".py",
   "mimetype": "text/x-python",
   "name": "python",
   "nbconvert_exporter": "python",
   "pygments_lexer": "ipython3",
   "version": "3.7.8"
  }
 },
 "nbformat": 4,
 "nbformat_minor": 4
}
