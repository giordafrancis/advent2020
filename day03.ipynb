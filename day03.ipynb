{
 "cells": [
  {
   "cell_type": "code",
   "execution_count": 6,
   "metadata": {},
   "outputs": [],
   "source": [
    "from typing import Tuple, List\n",
    "\n",
    "XY = Tuple[int, int]\n",
    "Map = List[List[str]]\n",
    "\n",
    "class Toboggan:\n",
    "    loc: XY = (0,0)\n",
    "    border_loc : XY =(0,0)\n",
    "    slide_map = str\n",
    "    trees_seen: int=0\n",
    "        \n",
    "    def get_borders(self)-> None:\n",
    "        \"\"\"\n",
    "        Gets borders of slide map\n",
    "        \"\"\"\n",
    "        ylim = len(self.slide_map)\n",
    "        xlim = len(self.slide_map[0])\n",
    "        self.border_loc = (xlim, ylim)\n",
    "                \n",
    "    def move_tobogann(self, slope) ->  None:\n",
    "        \"\"\"\n",
    "        Moves tobogan given slope\n",
    "        saves current location\n",
    "        \"\"\"\n",
    "        x, y = self.loc\n",
    "        dx, dy  = slope\n",
    "        limit_x = self.border_loc[0]\n",
    "        self.loc = (x + dx) % limit_x , y + dy\n",
    "        self.tree_counter()\n",
    "    \n",
    "    def get_value(self) -> str:\n",
    "        \"\"\"\n",
    "        based on current loc gets value \n",
    "        from map\n",
    "        \"\"\"\n",
    "        x, y = self.loc\n",
    "        return self.slide_map[y][x]\n",
    "    \n",
    "    def tree_counter(self)-> None:\n",
    "        \"\"\"\n",
    "        Increments tree count given value\n",
    "        \"\"\"\n",
    "        value = self.get_value()\n",
    "        if value == \"#\":\n",
    "            self.trees_seen += 1\n",
    "    \n",
    "    @staticmethod\n",
    "    def from_text(str_map:str) -> Map:\n",
    "        \"\"\"\n",
    "        Parse text string into a slope map\n",
    "        \"\"\"\n",
    "        return str_map.strip().split(\"\\n\")\n",
    "        \n",
    "def run_downhill(str_map: str, slope: XY) -> int:\n",
    "    \"\"\"\n",
    "    Usea a Toboggan to run downhill\n",
    "    retuns trees seen count\n",
    "    \"\"\"\n",
    "    t = Toboggan()\n",
    "    t.slide_map = t.from_text(str_map=str_map)\n",
    "    t.get_borders()\n",
    "    while True:\n",
    "        try:\n",
    "            t.move_tobogann(slope=slope)\n",
    "        except IndexError:\n",
    "            break\n",
    "    return t.trees_seen\n",
    "    \n",
    "\n",
    "test = \"\"\"\n",
    "..##.........##.........##.........##.........##.........##.......\n",
    "#...#...#..#...#...#..#...#...#..#...#...#..#...#...#..#...#...#..\n",
    ".#....#..#..#....#..#..#....#..#..#....#..#..#....#..#..#....#..#.\n",
    "..#.#...#.#..#.#...#.#..#.#...#.#..#.#...#.#..#.#...#.#..#.#...#.#\n",
    ".#...##..#..#...##..#..#...##..#..#...##..#..#...##..#..#...##..#.\n",
    "..#.##.......#.##.......#.##.......#.##.......#.##.......#.##.....\n",
    ".#.#.#....#.#.#.#....#.#.#.#....#.#.#.#....#.#.#.#....#.#.#.#....#\n",
    ".#........#.#........#.#........#.#........#.#........#.#........#\n",
    "#.##...#...#.##...#...#.##...#...#.##...#...#.##...#...#.##...#...\n",
    "#...##....##...##....##...##....##...##....##...##....##...##....#\n",
    ".#..#...#.#.#..#...#.#.#..#...#.#.#..#...#.#.#..#...#.#.#..#...#.#\"\"\""
   ]
  },
  {
   "cell_type": "code",
   "execution_count": 7,
   "metadata": {},
   "outputs": [],
   "source": [
    "assert run_downhill(str_map=test, slope = (1,1)) == 2\n",
    "assert run_downhill(str_map=test, slope = (3,1)) == 7\n",
    "assert run_downhill(str_map=test, slope = (5,1)) == 3\n",
    "assert run_downhill(str_map=test, slope = (7,1)) == 4"
   ]
  },
  {
   "cell_type": "code",
   "execution_count": 8,
   "metadata": {},
   "outputs": [
    {
     "name": "stdout",
     "output_type": "stream",
     "text": [
      "247\n"
     ]
    }
   ],
   "source": [
    "with open('puzzle_inputs/day03_01.txt', 'r') as f:\n",
    "    str_map = f.read()\n",
    "    trees_seen = run_downhill(str_map=str_map, slope = (3,1))\n",
    "print(trees_seen)  "
   ]
  },
  {
   "cell_type": "markdown",
   "metadata": {},
   "source": [
    "### Part 2"
   ]
  },
  {
   "cell_type": "code",
   "execution_count": 9,
   "metadata": {},
   "outputs": [],
   "source": [
    "SLOPES = [\n",
    " (1,1), \n",
    " (3,1), \n",
    " (5,1), \n",
    " (7,1),\n",
    " (1,2)\n",
    "]"
   ]
  },
  {
   "cell_type": "code",
   "execution_count": 10,
   "metadata": {},
   "outputs": [
    {
     "data": {
      "text/plain": [
       "2983070376"
      ]
     },
     "execution_count": 10,
     "metadata": {},
     "output_type": "execute_result"
    }
   ],
   "source": [
    "product = 1\n",
    "for s in SLOPES:\n",
    "    product *= run_downhill(str_map=str_map, slope=s)\n",
    "product"
   ]
  }
 ],
 "metadata": {
  "kernelspec": {
   "display_name": "Python 3",
   "language": "python",
   "name": "python3"
  },
  "language_info": {
   "codemirror_mode": {
    "name": "ipython",
    "version": 3
   },
   "file_extension": ".py",
   "mimetype": "text/x-python",
   "name": "python",
   "nbconvert_exporter": "python",
   "pygments_lexer": "ipython3",
   "version": "3.8.5"
  }
 },
 "nbformat": 4,
 "nbformat_minor": 4
}
