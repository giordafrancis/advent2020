{
 "cells": [
  {
   "cell_type": "code",
   "execution_count": 1,
   "metadata": {},
   "outputs": [],
   "source": [
    "from typing import List, DefaultDict\n",
    "from collections import defaultdict\n",
    "import re"
   ]
  },
  {
   "cell_type": "markdown",
   "metadata": {},
   "source": [
    "#### Part 1"
   ]
  },
  {
   "cell_type": "markdown",
   "metadata": {},
   "source": [
    "    byr (Birth Year)\n",
    "    iyr (Issue Year)\n",
    "    eyr (Expiration Year)\n",
    "    hgt (Height)\n",
    "    hcl (Hair Color)\n",
    "    ecl (Eye Color)\n",
    "    pid (Passport ID)\n",
    "    cid (Country ID)\n"
   ]
  },
  {
   "cell_type": "code",
   "execution_count": 2,
   "metadata": {},
   "outputs": [],
   "source": [
    "test_data = \"\"\"ecl:gry pid:860033327 eyr:2020 hcl:#fffffd\n",
    "byr:1937 iyr:2017 cid:147 hgt:183cm\n",
    "\n",
    "iyr:2013 ecl:amb cid:350 eyr:2023 pid:028048884\n",
    "hcl:#cfa07d byr:1929\n",
    "\n",
    "hcl:#ae17e1 iyr:2013\n",
    "eyr:2024\n",
    "ecl:brn pid:760753108 byr:1931\n",
    "hgt:179cm\n",
    "\n",
    "hcl:#cfa07d eyr:2025 pid:166559648\n",
    "iyr:2011 ecl:brn hgt:59in\"\"\""
   ]
  },
  {
   "cell_type": "code",
   "execution_count": 3,
   "metadata": {},
   "outputs": [],
   "source": [
    "KEYS = {'ecl', 'pid', 'eyr', 'hcl', 'byr', 'iyr', 'hgt', 'cid'}\n",
    "\n",
    "Passport = DefaultDict[str,str]\n",
    "def parse_passport(raw_pass: str, keys= List[str]) -> DefaultDict[str,str]:\n",
    "    \"\"\"\n",
    "        'iyr:2013 ecl:amb cid:350 eyr:2023 pid:028048884\n",
    "         hcl:#cfa07d byr:1929'\n",
    "    \"\"\"\n",
    "    passport = defaultdict.fromkeys(keys, None) #not required just explicit\n",
    "    for chunk in raw_pass.split(\"\\n\"):\n",
    "        for pairs in chunk.split(\" \"):\n",
    "            key, val = pairs.split(\":\")\n",
    "            passport[key] = val\n",
    "    return passport\n",
    "\n",
    "def get_passports(log_str:str, keys=List[str])-> List[Passport]:\n",
    "    passports = log_str.split(\"\\n\\n\")\n",
    "    to_process = []\n",
    "    for p in passports:\n",
    "        to_process.append(parse_passport(raw_pass=p, keys=keys))\n",
    "    return to_process\n",
    "\n",
    "def validate_passport(to_process: List[Passport], ignore:str = 'cid') -> int:\n",
    "    return sum(\n",
    "        all(val for key, val in d.items() if key != ignore )\n",
    "        for d in to_process\n",
    "    )           \n",
    "    "
   ]
  },
  {
   "cell_type": "code",
   "execution_count": 4,
   "metadata": {},
   "outputs": [
    {
     "data": {
      "text/plain": [
       "226"
      ]
     },
     "execution_count": 4,
     "metadata": {},
     "output_type": "execute_result"
    }
   ],
   "source": [
    "to_process = get_passports(log_str=test_data, keys=KEYS)\n",
    "assert validate_passport(to_process=to_process) == 2\n",
    "\n",
    "with open('puzzle_inputs/day04_01.txt', 'r') as file:\n",
    "    log_str = file.read()\n",
    "    to_process = get_passports(log_str=log_str, keys=KEYS)\n",
    "    valid_pass = validate_passport(to_process=to_process)\n",
    "valid_pass"
   ]
  },
  {
   "cell_type": "markdown",
   "metadata": {},
   "source": [
    "#### Part 2"
   ]
  },
  {
   "cell_type": "markdown",
   "metadata": {},
   "source": [
    "\n",
    "    byr (Birth Year) - four digits; at least 1920 and at most 2002.\n",
    "    iyr (Issue Year) - four digits; at least 2010 and at most 2020.\n",
    "    eyr (Expiration Year) - four digits; at least 2020 and at most 2030.\n",
    "    hgt (Height) - a number followed by either cm or in:\n",
    "        If cm, the number must be at least 150 and at most 193.\n",
    "        If in, the number must be at least 59 and at most 76.\n",
    "    hcl (Hair Color) - a # followed by exactly six characters 0-9 or a-f.\n",
    "    ecl (Eye Color) - exactly one of: amb blu brn gry grn hzl oth.\n",
    "    pid (Passport ID) - a nine-digit number, including leading zeroes.\n",
    "    cid (Country ID) - ignored, missing or not.\n"
   ]
  },
  {
   "cell_type": "code",
   "execution_count": 27,
   "metadata": {},
   "outputs": [],
   "source": [
    "def _byr(value:str)-> bool:\n",
    "     return 1920 <= int(value) <= 2002\n",
    "    \n",
    "def _iyr(value:str) -> bool:\n",
    "    return  2010 <= int(value) <= 2020\n",
    "\n",
    "def _eyr(value:str) -> bool:\n",
    "    return  2020 <= int(value) <= 2030\n",
    "\n",
    "def _hgt(value:str) -> bool:\n",
    "    if 'in' in value:\n",
    "        return 59 <= int(value.strip(\"in\")) <= 76\n",
    "    if 'cm' in value:\n",
    "        return 150 <= int(value.strip(\"cm\")) <= 193\n",
    "    return False\n",
    "    \n",
    "def _hcl(value:str)-> bool:\n",
    "    return bool(\n",
    "    re.match(\"^#[a-f0-9]{6}\", value)\n",
    "    )\n",
    "\n",
    "def _ecl(value:str)-> bool:\n",
    "    colours = {'amb', 'blu', 'brn', 'gry', 'grn', 'hzl', 'oth'} \n",
    "    return bool(\n",
    "    {value.strip()} & colours\n",
    "    )\n",
    "\n",
    "def _pid(value:str)-> bool:\n",
    "    if len(value) != 9:\n",
    "        return False\n",
    "    return bool(\n",
    "    re.match(\"^[0-9]{9}\", value)\n",
    "    )\n",
    "    \n",
    "def validate_fields(passport:Passport, ignore:str = 'cid') -> bool:\n",
    "    return all(fn(passport[key])\n",
    "            for key, fn in VAL_FN.items()\n",
    "            if key != ignore\n",
    "    )\n",
    "\n",
    "def validate_keys(passport:Passport , ignore:str = 'cid') -> int:\n",
    "    return all(val \n",
    "               for key, val in passport.items() \n",
    "               if key != ignore\n",
    "    )\n",
    "\n",
    "VAL_FN = {'byr':_byr,  'ecl':_ecl, 'eyr': _eyr, 'hcl':_hcl, 'hgt': _hgt, 'iyr': _iyr, 'pid':_pid}"
   ]
  },
  {
   "cell_type": "code",
   "execution_count": 28,
   "metadata": {},
   "outputs": [],
   "source": [
    "def process_passports(to_process: List[Passport], ignore = 'cid') -> int:\n",
    "    valid_p = 0\n",
    "    for p in to_process:\n",
    "        if validate_keys(passport=p) and validate_fields(passport=p):\n",
    "            valid_p += 1\n",
    "    return valid_p"
   ]
  },
  {
   "cell_type": "code",
   "execution_count": 29,
   "metadata": {},
   "outputs": [],
   "source": [
    "TEST = \"\"\"eyr:1972 cid:100\n",
    "hcl:#18171d ecl:amb hgt:170 pid:186cm iyr:2018 byr:1926\n",
    "\n",
    "iyr:2019\n",
    "hcl:#602927 eyr:1967 hgt:170cm\n",
    "ecl:grn pid:012533040 byr:1946\n",
    "\n",
    "hcl:dab227 iyr:2012\n",
    "ecl:brn hgt:182cm pid:021572410 eyr:2020 byr:1992 cid:277\n",
    "\n",
    "hgt:59cm ecl:zzz\n",
    "eyr:2038 hcl:74454a iyr:2023\n",
    "pid:3556412378 byr:2007\"\"\""
   ]
  },
  {
   "cell_type": "code",
   "execution_count": 30,
   "metadata": {},
   "outputs": [],
   "source": [
    "to_process = get_passports(log_str=TEST, keys=KEYS)\n",
    "assert process_passports(to_process=to_process) == 0"
   ]
  },
  {
   "cell_type": "code",
   "execution_count": 31,
   "metadata": {},
   "outputs": [],
   "source": [
    "TEST = \"\"\"pid:087499704 hgt:74in ecl:grn iyr:2012 eyr:2030 byr:1980\n",
    "hcl:#623a2f\n",
    "\n",
    "eyr:2029 ecl:blu cid:129 byr:1989\n",
    "iyr:2014 pid:896056539 hcl:#a97842 hgt:165cm\n",
    "\n",
    "hcl:#888785\n",
    "hgt:164cm byr:2001 iyr:2015 cid:88\n",
    "pid:545766238 ecl:hzl\n",
    "eyr:2022\n",
    "\n",
    "iyr:2010 hgt:158cm hcl:#b6652a ecl:blu byr:1944 eyr:2021 pid:093154719\"\"\""
   ]
  },
  {
   "cell_type": "code",
   "execution_count": 32,
   "metadata": {},
   "outputs": [],
   "source": [
    "to_process = get_passports(log_str=TEST, keys=KEYS)\n",
    "assert process_passports(to_process=to_process) == 4"
   ]
  },
  {
   "cell_type": "markdown",
   "metadata": {},
   "source": [
    "    byr valid:   2002\n",
    "    byr invalid: 2003\n",
    "\n",
    "    hgt valid:   60in\n",
    "    hgt valid:   190cm\n",
    "    hgt invalid: 190in\n",
    "    hgt invalid: 190\n",
    "\n",
    "    hcl valid:   #123abc\n",
    "    hcl invalid: #123abz\n",
    "    hcl invalid: 123abc\n",
    "\n",
    "    ecl valid:   brn\n",
    "    ecl invalid: wat\n",
    "\n",
    "    pid valid:   000000001\n",
    "    pid invalid: 0123456789"
   ]
  },
  {
   "cell_type": "code",
   "execution_count": 35,
   "metadata": {},
   "outputs": [
    {
     "data": {
      "text/plain": [
       "160"
      ]
     },
     "execution_count": 35,
     "metadata": {},
     "output_type": "execute_result"
    }
   ],
   "source": [
    "with open('puzzle_inputs/day04_01.txt', 'r') as file:\n",
    "    log_str = file.read()\n",
    "    to_process = get_passports(log_str=log_str, keys=KEYS)\n",
    "    valid_pass = process_passports(to_process=to_process)\n",
    "valid_pass"
   ]
  },
  {
   "cell_type": "code",
   "execution_count": null,
   "metadata": {},
   "outputs": [],
   "source": []
  }
 ],
 "metadata": {
  "kernelspec": {
   "display_name": "Python 3",
   "language": "python",
   "name": "python3"
  },
  "language_info": {
   "codemirror_mode": {
    "name": "ipython",
    "version": 3
   },
   "file_extension": ".py",
   "mimetype": "text/x-python",
   "name": "python",
   "nbconvert_exporter": "python",
   "pygments_lexer": "ipython3",
   "version": "3.8.5"
  }
 },
 "nbformat": 4,
 "nbformat_minor": 4
}
