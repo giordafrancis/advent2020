{
 "cells": [
  {
   "cell_type": "code",
   "execution_count": 1,
   "metadata": {},
   "outputs": [],
   "source": [
    "from typing import  NamedTuple, Set, List\n",
    "from aoc_utils import get_inputs\n",
    "from collections import defaultdict"
   ]
  },
  {
   "cell_type": "markdown",
   "metadata": {},
   "source": [
    "    abc\n",
    "\n",
    "    a\n",
    "    b\n",
    "    c\n",
    "\n",
    "    ab\n",
    "    ac\n",
    "\n",
    "    a\n",
    "    a\n",
    "    a\n",
    "    a\n",
    "\n",
    "    b\n",
    "\n",
    "    This list represents answers from five groups:\n",
    "\n",
    "        The first group contains one person who answered \"yes\" to 3 questions: a, b, and c.\n",
    "        The second group contains three people; combined, they answered \"yes\" to 3 questions: a, b, and c.\n",
    "        The third group contains two people; combined, they answered \"yes\" to 3 questions: a, b, and c.\n",
    "        The fourth group contains four people; combined, they answered \"yes\" to only 1 question, a.\n",
    "        The last group contains one person who answered \"yes\" to only 1 question, b.\n",
    "\n",
    "    In this example, the sum of these counts is 3 + 3 + 3 + 1 + 1 = 11."
   ]
  },
  {
   "cell_type": "code",
   "execution_count": 2,
   "metadata": {},
   "outputs": [],
   "source": [
    "RAW = \"\"\"abc\n",
    "\n",
    "a\n",
    "b\n",
    "c\n",
    "\n",
    "ab\n",
    "ac\n",
    "\n",
    "a\n",
    "a\n",
    "a\n",
    "a\n",
    "\n",
    "b\"\"\""
   ]
  },
  {
   "cell_type": "code",
   "execution_count": 3,
   "metadata": {},
   "outputs": [],
   "source": [
    "def get_answers(inputs:str)->List[str]:\n",
    "    return sum(\n",
    "        len(set(g.replace(\"\\n\", \"\")))\n",
    "        for g in inputs.split(\"\\n\\n\")\n",
    "    )"
   ]
  },
  {
   "cell_type": "code",
   "execution_count": 4,
   "metadata": {},
   "outputs": [],
   "source": [
    "with open('puzzle_inputs/day06_01.txt') as file:\n",
    "    pinput = file.read()\n",
    "    yes_count = get_answers(inputs=pinput)"
   ]
  },
  {
   "cell_type": "code",
   "execution_count": 5,
   "metadata": {},
   "outputs": [
    {
     "data": {
      "text/plain": [
       "6259"
      ]
     },
     "execution_count": 5,
     "metadata": {},
     "output_type": "execute_result"
    }
   ],
   "source": [
    "yes_count"
   ]
  },
  {
   "cell_type": "markdown",
   "metadata": {},
   "source": [
    "## Part 2"
   ]
  },
  {
   "cell_type": "markdown",
   "metadata": {},
   "source": [
    "    abc\n",
    "\n",
    "    a\n",
    "    b\n",
    "    c\n",
    "\n",
    "    ab\n",
    "    ac\n",
    "\n",
    "    a\n",
    "    a\n",
    "    a\n",
    "    a\n",
    "\n",
    "    b\n",
    "\n",
    "    This list represents answers from five groups:\n",
    "\n",
    "        In the first group, everyone (all 1 person) answered \"yes\" to 3 questions: a, b, and c.\n",
    "        In the second group, there is no question to which everyone answered \"yes\".\n",
    "        In the third group, everyone answered yes to only 1 question, a. Since some people did not answer \"yes\" to b or c, they don't count.\n",
    "        In the fourth group, everyone answered yes to only 1 question, a.\n",
    "        In the fifth group, everyone (all 1 person) answered \"yes\" to 1 question, b.\n",
    "\n",
    "    In this example, the sum of these counts is 3 + 0 + 1 + 1 + 1 = 6."
   ]
  },
  {
   "cell_type": "code",
   "execution_count": 6,
   "metadata": {},
   "outputs": [],
   "source": [
    "class Person(NamedTuple):\n",
    "    answers: str\n",
    "    group: int"
   ]
  },
  {
   "cell_type": "code",
   "execution_count": 7,
   "metadata": {},
   "outputs": [],
   "source": [
    "def get_persons(inputs:str)->List[str]:\n",
    "    return [Person(answers=p, group=i)\n",
    "        for i, g in enumerate(inputs.split(\"\\n\\n\"))\n",
    "        for p in g.split(\"\\n\")\n",
    "            ]\n",
    "    "
   ]
  },
  {
   "cell_type": "code",
   "execution_count": 8,
   "metadata": {},
   "outputs": [],
   "source": [
    "def get_counts(persons:List[Person]) -> int:\n",
    "    answers_group = {}\n",
    "    for a, g in persons:\n",
    "        if g in answers_group:\n",
    "            #print(1, g, answers_group[g], set(a))\n",
    "            answers_group[g] &= set(a) \n",
    "        else:\n",
    "            #print(2, g, a)\n",
    "            answers_group[g] = set(a)\n",
    "    return sum(len(val) \n",
    "               for val in answers_group.values()\n",
    "              )\n",
    "    "
   ]
  },
  {
   "cell_type": "code",
   "execution_count": 9,
   "metadata": {},
   "outputs": [],
   "source": [
    "groups = get_persons(inputs=RAW)\n",
    "assert get_counts(persons=groups) == 6"
   ]
  },
  {
   "cell_type": "code",
   "execution_count": 11,
   "metadata": {},
   "outputs": [
    {
     "name": "stdout",
     "output_type": "stream",
     "text": [
      "2.28 ms ± 77.6 µs per loop (mean ± std. dev. of 7 runs, 100 loops each)\n"
     ]
    }
   ],
   "source": [
    "%%timeit\n",
    "with open('puzzle_inputs/day06_01.txt') as file:\n",
    "    pinput = file.read()\n",
    "    persons = get_persons(inputs=pinput)\n",
    "    unique_count = get_counts(persons=persons)\n",
    "unique_count"
   ]
  },
  {
   "cell_type": "code",
   "execution_count": 14,
   "metadata": {},
   "outputs": [
    {
     "data": {
      "text/plain": [
       "3178"
      ]
     },
     "execution_count": 14,
     "metadata": {},
     "output_type": "execute_result"
    }
   ],
   "source": [
    "with open('puzzle_inputs/day06_01.txt') as file:\n",
    "    pinput = file.read()\n",
    "    persons = get_persons(inputs=pinput)\n",
    "    unique_count = get_counts(persons=persons)\n",
    "unique_count"
   ]
  },
  {
   "cell_type": "code",
   "execution_count": 15,
   "metadata": {},
   "outputs": [],
   "source": [
    "a = set('a')\n",
    "b = set('b')"
   ]
  },
  {
   "cell_type": "code",
   "execution_count": 16,
   "metadata": {},
   "outputs": [
    {
     "data": {
      "text/plain": [
       "set()"
      ]
     },
     "execution_count": 16,
     "metadata": {},
     "output_type": "execute_result"
    }
   ],
   "source": [
    "a & b"
   ]
  },
  {
   "cell_type": "code",
   "execution_count": 17,
   "metadata": {},
   "outputs": [
    {
     "data": {
      "text/plain": [
       "{'a', 'b'}"
      ]
     },
     "execution_count": 17,
     "metadata": {},
     "output_type": "execute_result"
    }
   ],
   "source": [
    "a | b"
   ]
  },
  {
   "cell_type": "code",
   "execution_count": 18,
   "metadata": {},
   "outputs": [
    {
     "data": {
      "text/plain": [
       "{'a', 'b'}"
      ]
     },
     "execution_count": 18,
     "metadata": {},
     "output_type": "execute_result"
    }
   ],
   "source": [
    "a.union(b)"
   ]
  },
  {
   "cell_type": "code",
   "execution_count": 29,
   "metadata": {},
   "outputs": [
    {
     "name": "stdout",
     "output_type": "stream",
     "text": [
      "11\n",
      "6\n"
     ]
    }
   ],
   "source": [
    "# found the below on you tube comments\n",
    "\n",
    "def parse(raw):\n",
    "    groups = raw.split('\\n\\n')\n",
    "    return [list(map(set, g.split())) for g in groups]\n",
    "\n",
    "def count(groups, fn):\n",
    "    return sum( len(fn(*g)) for g in groups )\n",
    "\n",
    "groups = parse(RAW)\n",
    "print(count(groups, set.union))\n",
    "print(count(groups, set.intersection))"
   ]
  },
  {
   "cell_type": "code",
   "execution_count": 26,
   "metadata": {},
   "outputs": [
    {
     "data": {
      "text/plain": [
       "[[{'a', 'b', 'c'}],\n",
       " [{'a'}, {'b'}, {'c'}],\n",
       " [{'a', 'b'}, {'a', 'c'}],\n",
       " [{'a'}, {'a'}, {'a'}, {'a'}],\n",
       " [{'b'}]]"
      ]
     },
     "execution_count": 26,
     "metadata": {},
     "output_type": "execute_result"
    }
   ],
   "source": [
    "groups"
   ]
  },
  {
   "cell_type": "code",
   "execution_count": 28,
   "metadata": {},
   "outputs": [
    {
     "data": {
      "text/plain": [
       "{'a'}"
      ]
     },
     "execution_count": 28,
     "metadata": {},
     "output_type": "execute_result"
    }
   ],
   "source": [
    "set.union({'a'})"
   ]
  },
  {
   "cell_type": "code",
   "execution_count": null,
   "metadata": {},
   "outputs": [],
   "source": []
  }
 ],
 "metadata": {
  "kernelspec": {
   "display_name": "Python [conda env:scripts] *",
   "language": "python",
   "name": "conda-env-scripts-py"
  },
  "language_info": {
   "codemirror_mode": {
    "name": "ipython",
    "version": 3
   },
   "file_extension": ".py",
   "mimetype": "text/x-python",
   "name": "python",
   "nbconvert_exporter": "python",
   "pygments_lexer": "ipython3",
   "version": "3.8.5"
  }
 },
 "nbformat": 4,
 "nbformat_minor": 4
}
