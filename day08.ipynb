{
 "cells": [
  {
   "cell_type": "code",
   "execution_count": 63,
   "metadata": {},
   "outputs": [
    {
     "name": "stdout",
     "output_type": "stream",
     "text": [
      "2080\n"
     ]
    }
   ],
   "source": [
    "from typing import NamedTuple, List, Tuple, Set\n",
    "\n",
    "RAW = \"\"\"nop +0\n",
    "acc +1\n",
    "jmp +4\n",
    "acc +3\n",
    "jmp -3\n",
    "acc -99\n",
    "acc +1\n",
    "jmp -4\n",
    "acc +6\"\"\"\n",
    "\n",
    "class Instruction(NamedTuple):\n",
    "    operation:str\n",
    "    arg: int\n",
    "        \n",
    "    @staticmethod\n",
    "    def parse_line(line:str):\n",
    "        \"\"\"\n",
    "        nop +0\n",
    "        \"\"\"\n",
    "        op, arg = line.split(\" \")\n",
    "        return Instruction(operation= op,\n",
    "                          arg = int(arg))\n",
    "    \n",
    "def get_total_acc_value(instructions: List[Instruction])->int:\n",
    "    loc = 0\n",
    "    accu_val = 0\n",
    "    idx = [0]\n",
    "    idx_set = {0}\n",
    "    current = instructions[0]\n",
    "    while True:\n",
    "        loc, accu_val = parse_intruction(instruction=current,\n",
    "                                         loc = loc,\n",
    "                                         acc_val=accu_val)\n",
    "        current = instructions[loc]\n",
    "        idx.append(loc)\n",
    "        idx_set.add(loc)\n",
    "        if not verify_loc(idx_set=idx_set, idx_list=idx):\n",
    "            return accu_val \n",
    "\n",
    "def verify_loc(idx_list:List[int], idx_set:Set[int]) -> bool:\n",
    "    return len(idx_set) == len(idx_list)\n",
    " \n",
    "\n",
    "def parse_intruction(instruction:Instruction, loc:int, acc_val:int) -> Tuple[int, int]:\n",
    "    op, arg = instruction\n",
    "    if op == 'nop':\n",
    "        return loc + 1, acc_val\n",
    "    if op == 'acc':\n",
    "        return loc +1, acc_val + arg\n",
    "    return loc + arg, acc_val\n",
    "\n",
    "lines = [Instruction.parse_line(line)\n",
    "        for line in RAW.split(\"\\n\")]\n",
    "\n",
    "assert get_total_acc_value(instructions=lines) == 5\n",
    "\n",
    "with open('puzzle_inputs/day08.txt') as f:\n",
    "    RAW = f.read()\n",
    "    lines = [Instruction.parse_line(line)\n",
    "            for line in RAW.split(\"\\n\")]\n",
    "    print(get_total_acc_value(instructions=lines))"
   ]
  }
 ],
 "metadata": {
  "kernelspec": {
   "display_name": "Python [conda env:scripts] *",
   "language": "python",
   "name": "conda-env-scripts-py"
  },
  "language_info": {
   "codemirror_mode": {
    "name": "ipython",
    "version": 3
   },
   "file_extension": ".py",
   "mimetype": "text/x-python",
   "name": "python",
   "nbconvert_exporter": "python",
   "pygments_lexer": "ipython3",
   "version": "3.8.5"
  }
 },
 "nbformat": 4,
 "nbformat_minor": 4
}
