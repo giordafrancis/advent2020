{
 "cells": [
  {
   "cell_type": "code",
   "execution_count": 4,
   "metadata": {},
   "outputs": [
    {
     "name": "stdout",
     "output_type": "stream",
     "text": [
      "part1 2080\n"
     ]
    }
   ],
   "source": [
    "from typing import NamedTuple, List, Tuple, Set\n",
    "from copy import deepcopy\n",
    "from dataclasses import dataclass\n",
    "\n",
    "RAW = \"\"\"nop +0\n",
    "acc +1\n",
    "jmp +4\n",
    "acc +3\n",
    "jmp -3\n",
    "acc -99\n",
    "acc +1\n",
    "jmp -4\n",
    "acc +6\"\"\"\n",
    "\n",
    "\n",
    "class Instruction(NamedTuple):\n",
    "    operation:str\n",
    "    arg: int\n",
    "        \n",
    "    @staticmethod\n",
    "    def parse_line(line:str):\n",
    "        \"\"\"\n",
    "        nop +0\n",
    "        \"\"\"\n",
    "        op, arg = line.split(\" \")\n",
    "        return Instruction(operation= op,\n",
    "                          arg = int(arg))\n",
    "    \n",
    "def get_total_acc_value(instructions: List[Instruction])->int:\n",
    "    loc = 0\n",
    "    accu_val = 0\n",
    "    idx_set = {0}\n",
    "    current = instructions[0]\n",
    "    while True:\n",
    "        loc, accu_val = parse_instruction(instruction=current,\n",
    "                                         loc = loc,\n",
    "                                         acc_val=accu_val)\n",
    "        \n",
    "        if loc in idx_set:\n",
    "            return accu_val\n",
    "        idx_set.add(loc)\n",
    "        current = instructions[loc] #change current\n",
    "\n",
    "\n",
    "def parse_instruction(instruction:Instruction, loc:int, acc_val:int) -> Tuple[int, int]:\n",
    "    op, arg = instruction\n",
    "    if op == 'nop':\n",
    "        return loc + 1, acc_val\n",
    "    if op == 'acc':\n",
    "        return loc + 1, acc_val + arg\n",
    "    return loc + arg, acc_val\n",
    "\n",
    "lines = [Instruction.parse_line(line)\n",
    "        for line in RAW.split(\"\\n\")]\n",
    "\n",
    "assert get_total_acc_value(instructions=lines) == 5\n",
    "\n",
    "with open('puzzle_inputs/day08.txt') as f:\n",
    "    RAW = f.read()\n",
    "    lines = [Instruction.parse_line(line)\n",
    "            for line in RAW.split(\"\\n\")]\n",
    "    print(\"part1\", get_total_acc_value(instructions=lines))"
   ]
  },
  {
   "cell_type": "markdown",
   "metadata": {},
   "source": [
    "## Part 2"
   ]
  },
  {
   "cell_type": "code",
   "execution_count": 6,
   "metadata": {},
   "outputs": [],
   "source": [
    "RAW2 = \"\"\"nop +0\n",
    "acc +1\n",
    "jmp +4\n",
    "acc +3\n",
    "jmp -3\n",
    "acc -99\n",
    "acc +1\n",
    "jmp -4\n",
    "acc +6\"\"\"\n",
    "\n",
    "lines = [Instruction.parse_line(line)\n",
    "        for line in RAW2.split(\"\\n\")]\n",
    "\n",
    "def get_total_acc_value2(instructions: List[Instruction])->int:\n",
    "    loc = 0\n",
    "    accu_val = 0\n",
    "    idx_set = {0}\n",
    "    current = instructions[0]\n",
    "    while True:\n",
    "        loc, accu_val = parse_instruction(instruction=current,\n",
    "                                         loc = loc,\n",
    "                                         acc_val=accu_val)\n",
    "        \n",
    "        if loc in idx_set:\n",
    "            return False # so loop in p2 can continue\n",
    "        elif loc == len(instructions):\n",
    "            return accu_val # Part 2\n",
    "        idx_set.add(loc)\n",
    "        current = instructions[loc] #change current\n",
    "\n",
    "\n",
    "# brute force method\n",
    "def part_2(lines:List[Instruction])-> int:\n",
    "    for idx, (op, arg) in enumerate(lines):\n",
    "        inst_loop = lines.copy()\n",
    "        if op == 'jmp':\n",
    "            inst_loop[idx] = Instruction('nop', arg)\n",
    "        elif op == 'nop':\n",
    "            inst_loop[idx] = Instruction('jmp', arg)\n",
    "        else:\n",
    "            continue\n",
    "\n",
    "        accu_val= get_total_acc_value2(instructions=inst_loop)\n",
    "        if accu_val:\n",
    "            return accu_val"
   ]
  },
  {
   "cell_type": "code",
   "execution_count": 11,
   "metadata": {},
   "outputs": [
    {
     "name": "stdout",
     "output_type": "stream",
     "text": [
      "part2 2477\n"
     ]
    }
   ],
   "source": [
    "with open('puzzle_inputs/day08.txt') as f:\n",
    "    RAW = f.read()\n",
    "    lines = [Instruction.parse_line(line)\n",
    "            for line in RAW.split(\"\\n\")]\n",
    "    print('part2', part_2(lines=lines))"
   ]
  }
 ],
 "metadata": {
  "kernelspec": {
   "display_name": "Python 3",
   "language": "python",
   "name": "python3"
  },
  "language_info": {
   "codemirror_mode": {
    "name": "ipython",
    "version": 3
   },
   "file_extension": ".py",
   "mimetype": "text/x-python",
   "name": "python",
   "nbconvert_exporter": "python",
   "pygments_lexer": "ipython3",
   "version": "3.7.8"
  }
 },
 "nbformat": 4,
 "nbformat_minor": 4
}
