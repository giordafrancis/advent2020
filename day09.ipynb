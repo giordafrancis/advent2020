{
 "cells": [
  {
   "cell_type": "code",
   "execution_count": 1,
   "metadata": {},
   "outputs": [],
   "source": [
    "from collections import deque\n",
    "from typing import List, NamedTuple, Deque, Union, Optional\n",
    "from itertools import combinations\n",
    "\n",
    "RAW = \"\"\"35\n",
    "20\n",
    "15\n",
    "25\n",
    "47\n",
    "40\n",
    "62\n",
    "55\n",
    "65\n",
    "95\n",
    "102\n",
    "117\n",
    "150\n",
    "182\n",
    "127\n",
    "219\n",
    "299\n",
    "277\n",
    "309\n",
    "576\"\"\"\n",
    "\n",
    "def parse_input(inputs:str)-> List[int]:\n",
    "    return [int(num) for num in inputs.split(\"\\n\")]\n",
    "\n",
    "class IdxNumber(NamedTuple):\n",
    "    idx:int\n",
    "    number:int\n",
    "        \n",
    "def find_weakness(preamble:int, queue:Deque[IdxNumber], numbers: List[int]) -> Optional[Union[bool, int]]:\n",
    "    if len(queue) == preamble:\n",
    "        comb = combinations(queue, 2)\n",
    "        target = numbers[queue[0].idx + 1]\n",
    "        sums = []\n",
    "        for pairs in comb:\n",
    "            pair_sum = 0\n",
    "            for _, num in pairs:\n",
    "                pair_sum += num\n",
    "                sums.append(pair_sum)\n",
    "        match = any(target == pair_sum\n",
    "                   for pair_sum in sums)\n",
    "        if match:\n",
    "            return False\n",
    "        else:\n",
    "            return target        \n",
    "\n",
    "def find_first_weakness(preamble:int, numbers:List[int]) -> Optional[int]:\n",
    "    q = deque(maxlen=preamble)\n",
    "    for idx, num in enumerate(numbers):\n",
    "        numidx = IdxNumber(idx, num)\n",
    "        q.appendleft(numidx)\n",
    "        target= find_weakness(preamble=preamble, queue=q,\n",
    "                         numbers=numbers)\n",
    "        if target:\n",
    "            return target\n",
    "    else:\n",
    "        return None\n",
    "\n",
    "numbers = parse_input(inputs=RAW)\n",
    "\n",
    "assert find_first_weakness(preamble=5, numbers=numbers) == 127\n",
    "\n"
   ]
  },
  {
   "cell_type": "markdown",
   "metadata": {},
   "source": [
    "### Part 2"
   ]
  },
  {
   "cell_type": "code",
   "execution_count": 5,
   "metadata": {},
   "outputs": [],
   "source": [
    "numbers = parse_input(inputs=RAW)\n",
    "target = find_first_weakness(preamble=5, numbers=numbers)\n",
    "\n",
    "def part_2(target:int, numbers:List[int])-> int:\n",
    "    \n",
    "    L = len(numbers)\n",
    "    for l in range(2,L):\n",
    "        window = deque(maxlen= l)\n",
    "        for num in numbers:\n",
    "            window.appendleft(num)\n",
    "            if len(window) < l:\n",
    "                continue\n",
    "            if sum(window) == target:\n",
    "                return min(window) + max(window)\n",
    "            else:\n",
    "                window.pop()\n",
    "assert part_2(target=target, numbers=numbers) == 62"
   ]
  },
  {
   "cell_type": "code",
   "execution_count": 9,
   "metadata": {},
   "outputs": [
    {
     "name": "stdout",
     "output_type": "stream",
     "text": [
      "part1 31161678\n",
      "part2 5453868\n"
     ]
    }
   ],
   "source": [
    "with open(\"puzzle_inputs/day09.txt\") as f:\n",
    "    RAWP = f.read()\n",
    "    numbers = parse_input(inputs=RAWP)\n",
    "    part1 = find_first_weakness(preamble=25, numbers=numbers)\n",
    "    print(\"part1\", part1)\n",
    "    part2 = part_2(target=part1, numbers=numbers)\n",
    "    print(\"part2\", part2)"
   ]
  }
 ],
 "metadata": {
  "kernelspec": {
   "display_name": "Python 3",
   "language": "python",
   "name": "python3"
  },
  "language_info": {
   "codemirror_mode": {
    "name": "ipython",
    "version": 3
   },
   "file_extension": ".py",
   "mimetype": "text/x-python",
   "name": "python",
   "nbconvert_exporter": "python",
   "pygments_lexer": "ipython3",
   "version": "3.7.8"
  }
 },
 "nbformat": 4,
 "nbformat_minor": 4
}
